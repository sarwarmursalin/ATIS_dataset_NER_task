{
  "nbformat": 4,
  "nbformat_minor": 0,
  "metadata": {
    "colab": {
      "provenance": []
    },
    "kernelspec": {
      "name": "python3",
      "display_name": "Python 3"
    },
    "language_info": {
      "name": "python"
    }
  },
  "cells": [
    {
      "cell_type": "code",
      "source": [
        "from google.colab import drive\n",
        "drive.mount('/content/drive')"
      ],
      "metadata": {
        "colab": {
          "base_uri": "https://localhost:8080/"
        },
        "id": "w76dokXtPPmS",
        "outputId": "9472f422-1080-4666-fcd6-a051dc486840"
      },
      "execution_count": 7,
      "outputs": [
        {
          "output_type": "stream",
          "name": "stdout",
          "text": [
            "Drive already mounted at /content/drive; to attempt to forcibly remount, call drive.mount(\"/content/drive\", force_remount=True).\n"
          ]
        }
      ]
    },
    {
      "cell_type": "code",
      "source": [
        "import pandas as pd\n",
        "\n",
        "atis_train_path = '/content/drive/MyDrive/Thesis/ML Engineer Files/atis_train.csv'\n",
        "atis_test_path = '/content/drive/MyDrive/Thesis/ML Engineer Files/atis_test.csv'\n",
        "\n",
        "atis_train = pd.read_csv(atis_train_path)\n",
        "atis_test = pd.read_csv(atis_test_path)\n",
        "\n",
        "atis_train_head = atis_train.head()\n",
        "atis_test_head = atis_test.head()\n",
        "\n",
        "atis_train_head, atis_test_head\n",
        "\n"
      ],
      "metadata": {
        "colab": {
          "base_uri": "https://localhost:8080/"
        },
        "id": "emhMtx5FX2-v",
        "outputId": "9749edfb-4fcc-44ca-8b8e-ad2ab06e84cf"
      },
      "execution_count": 8,
      "outputs": [
        {
          "output_type": "execute_result",
          "data": {
            "text/plain": [
              "(   id       intent                                               text  \\\n",
              " 0   0       flight  i want to fly from boston at 838 am and arrive...   \n",
              " 1   1       flight  what flights are available from pittsburgh to ...   \n",
              " 2   2  flight_time  what is the arrival time in san francisco for ...   \n",
              " 3   3      airfare            cheapest airfare from tacoma to orlando   \n",
              " 4   4      airfare  round trip fares from pittsburgh to philadelph...   \n",
              " \n",
              "                                                slots  \n",
              " 0  O O O O O B-fromloc.city_name O B-depart_time....  \n",
              " 1  O O O O O B-fromloc.city_name O B-toloc.city_n...  \n",
              " 2  O O O B-flight_time I-flight_time O B-fromloc....  \n",
              " 3  B-cost_relative O O B-fromloc.city_name O B-to...  \n",
              " 4  B-round_trip I-round_trip O O B-fromloc.city_n...  ,\n",
              "    id   intent                                               text  \\\n",
              " 0   0   flight  i would like to find a flight from charlotte t...   \n",
              " 1   1  airfare  on april first i need a ticket from tacoma to ...   \n",
              " 2   2   flight  on april first i need a flight going from phoe...   \n",
              " 3   3   flight  i would like a flight traveling one way from p...   \n",
              " 4   4   flight  i would like a flight from orlando to salt lak...   \n",
              " \n",
              "                                                slots  \n",
              " 0  O O O O O O O O B-fromloc.city_name O B-toloc....  \n",
              " 1  O B-depart_date.month_name B-depart_date.day_n...  \n",
              " 2  O B-depart_date.month_name B-depart_date.day_n...  \n",
              " 3  O O O O O O B-round_trip I-round_trip O B-from...  \n",
              " 4  O O O O O O B-fromloc.city_name O B-toloc.city...  )"
            ]
          },
          "metadata": {},
          "execution_count": 8
        }
      ]
    },
    {
      "cell_type": "code",
      "source": [
        "def manual_preprocess_data(df):\n",
        "    processed_data = []\n",
        "\n",
        "    for _, row in df.iterrows():\n",
        "        text = row['text']\n",
        "        slots = row['slots'].split()\n",
        "\n",
        "\n",
        "        tokens = text.split()\n",
        "\n",
        "        if len(tokens) != len(slots):\n",
        "            print(f\"Misalignment in sentence: {text}\")\n",
        "            continue\n",
        "\n",
        "        processed_data.append((tokens, slots))\n",
        "\n",
        "    return processed_data\n",
        "\n",
        "# Preprocess the training data\n",
        "preprocessed_train_data = manual_preprocess_data(atis_train)\n",
        "preprocessed_train_data[:5]\n"
      ],
      "metadata": {
        "colab": {
          "base_uri": "https://localhost:8080/"
        },
        "id": "109iz5UdX264",
        "outputId": "d5e10aa3-79e1-4bc7-f321-ddd6a568148e"
      },
      "execution_count": 9,
      "outputs": [
        {
          "output_type": "execute_result",
          "data": {
            "text/plain": [
              "[(['i',\n",
              "   'want',\n",
              "   'to',\n",
              "   'fly',\n",
              "   'from',\n",
              "   'boston',\n",
              "   'at',\n",
              "   '838',\n",
              "   'am',\n",
              "   'and',\n",
              "   'arrive',\n",
              "   'in',\n",
              "   'denver',\n",
              "   'at',\n",
              "   '1110',\n",
              "   'in',\n",
              "   'the',\n",
              "   'morning'],\n",
              "  ['O',\n",
              "   'O',\n",
              "   'O',\n",
              "   'O',\n",
              "   'O',\n",
              "   'B-fromloc.city_name',\n",
              "   'O',\n",
              "   'B-depart_time.time',\n",
              "   'I-depart_time.time',\n",
              "   'O',\n",
              "   'O',\n",
              "   'O',\n",
              "   'B-toloc.city_name',\n",
              "   'O',\n",
              "   'B-arrive_time.time',\n",
              "   'O',\n",
              "   'O',\n",
              "   'B-arrive_time.period_of_day']),\n",
              " (['what',\n",
              "   'flights',\n",
              "   'are',\n",
              "   'available',\n",
              "   'from',\n",
              "   'pittsburgh',\n",
              "   'to',\n",
              "   'baltimore',\n",
              "   'on',\n",
              "   'thursday',\n",
              "   'morning'],\n",
              "  ['O',\n",
              "   'O',\n",
              "   'O',\n",
              "   'O',\n",
              "   'O',\n",
              "   'B-fromloc.city_name',\n",
              "   'O',\n",
              "   'B-toloc.city_name',\n",
              "   'O',\n",
              "   'B-depart_date.day_name',\n",
              "   'B-depart_time.period_of_day']),\n",
              " (['what',\n",
              "   'is',\n",
              "   'the',\n",
              "   'arrival',\n",
              "   'time',\n",
              "   'in',\n",
              "   'san',\n",
              "   'francisco',\n",
              "   'for',\n",
              "   'the',\n",
              "   '755',\n",
              "   'am',\n",
              "   'flight',\n",
              "   'leaving',\n",
              "   'washington'],\n",
              "  ['O',\n",
              "   'O',\n",
              "   'O',\n",
              "   'B-flight_time',\n",
              "   'I-flight_time',\n",
              "   'O',\n",
              "   'B-fromloc.city_name',\n",
              "   'I-fromloc.city_name',\n",
              "   'O',\n",
              "   'O',\n",
              "   'B-depart_time.time',\n",
              "   'I-depart_time.time',\n",
              "   'O',\n",
              "   'O',\n",
              "   'B-fromloc.city_name']),\n",
              " (['cheapest', 'airfare', 'from', 'tacoma', 'to', 'orlando'],\n",
              "  ['B-cost_relative',\n",
              "   'O',\n",
              "   'O',\n",
              "   'B-fromloc.city_name',\n",
              "   'O',\n",
              "   'B-toloc.city_name']),\n",
              " (['round',\n",
              "   'trip',\n",
              "   'fares',\n",
              "   'from',\n",
              "   'pittsburgh',\n",
              "   'to',\n",
              "   'philadelphia',\n",
              "   'under',\n",
              "   '1000',\n",
              "   'dollars'],\n",
              "  ['B-round_trip',\n",
              "   'I-round_trip',\n",
              "   'O',\n",
              "   'O',\n",
              "   'B-fromloc.city_name',\n",
              "   'O',\n",
              "   'B-toloc.city_name',\n",
              "   'B-cost_relative',\n",
              "   'B-fare_amount',\n",
              "   'I-fare_amount'])]"
            ]
          },
          "metadata": {},
          "execution_count": 9
        }
      ]
    },
    {
      "cell_type": "code",
      "source": [
        "!pip install tensorflow\n"
      ],
      "metadata": {
        "colab": {
          "base_uri": "https://localhost:8080/"
        },
        "id": "h8jahshK98JU",
        "outputId": "689a0458-8bf2-45bc-b439-937dbccb5ead"
      },
      "execution_count": 10,
      "outputs": [
        {
          "output_type": "stream",
          "name": "stdout",
          "text": [
            "Requirement already satisfied: tensorflow in /usr/local/lib/python3.10/dist-packages (2.14.0)\n",
            "Requirement already satisfied: absl-py>=1.0.0 in /usr/local/lib/python3.10/dist-packages (from tensorflow) (1.4.0)\n",
            "Requirement already satisfied: astunparse>=1.6.0 in /usr/local/lib/python3.10/dist-packages (from tensorflow) (1.6.3)\n",
            "Requirement already satisfied: flatbuffers>=23.5.26 in /usr/local/lib/python3.10/dist-packages (from tensorflow) (23.5.26)\n",
            "Requirement already satisfied: gast!=0.5.0,!=0.5.1,!=0.5.2,>=0.2.1 in /usr/local/lib/python3.10/dist-packages (from tensorflow) (0.5.4)\n",
            "Requirement already satisfied: google-pasta>=0.1.1 in /usr/local/lib/python3.10/dist-packages (from tensorflow) (0.2.0)\n",
            "Requirement already satisfied: h5py>=2.9.0 in /usr/local/lib/python3.10/dist-packages (from tensorflow) (3.9.0)\n",
            "Requirement already satisfied: libclang>=13.0.0 in /usr/local/lib/python3.10/dist-packages (from tensorflow) (16.0.6)\n",
            "Requirement already satisfied: ml-dtypes==0.2.0 in /usr/local/lib/python3.10/dist-packages (from tensorflow) (0.2.0)\n",
            "Requirement already satisfied: numpy>=1.23.5 in /usr/local/lib/python3.10/dist-packages (from tensorflow) (1.23.5)\n",
            "Requirement already satisfied: opt-einsum>=2.3.2 in /usr/local/lib/python3.10/dist-packages (from tensorflow) (3.3.0)\n",
            "Requirement already satisfied: packaging in /usr/local/lib/python3.10/dist-packages (from tensorflow) (23.2)\n",
            "Requirement already satisfied: protobuf!=4.21.0,!=4.21.1,!=4.21.2,!=4.21.3,!=4.21.4,!=4.21.5,<5.0.0dev,>=3.20.3 in /usr/local/lib/python3.10/dist-packages (from tensorflow) (3.20.3)\n",
            "Requirement already satisfied: setuptools in /usr/local/lib/python3.10/dist-packages (from tensorflow) (67.7.2)\n",
            "Requirement already satisfied: six>=1.12.0 in /usr/local/lib/python3.10/dist-packages (from tensorflow) (1.16.0)\n",
            "Requirement already satisfied: termcolor>=1.1.0 in /usr/local/lib/python3.10/dist-packages (from tensorflow) (2.3.0)\n",
            "Requirement already satisfied: typing-extensions>=3.6.6 in /usr/local/lib/python3.10/dist-packages (from tensorflow) (4.5.0)\n",
            "Requirement already satisfied: wrapt<1.15,>=1.11.0 in /usr/local/lib/python3.10/dist-packages (from tensorflow) (1.14.1)\n",
            "Requirement already satisfied: tensorflow-io-gcs-filesystem>=0.23.1 in /usr/local/lib/python3.10/dist-packages (from tensorflow) (0.34.0)\n",
            "Requirement already satisfied: grpcio<2.0,>=1.24.3 in /usr/local/lib/python3.10/dist-packages (from tensorflow) (1.59.2)\n",
            "Requirement already satisfied: tensorboard<2.15,>=2.14 in /usr/local/lib/python3.10/dist-packages (from tensorflow) (2.14.1)\n",
            "Requirement already satisfied: tensorflow-estimator<2.15,>=2.14.0 in /usr/local/lib/python3.10/dist-packages (from tensorflow) (2.14.0)\n",
            "Requirement already satisfied: keras<2.15,>=2.14.0 in /usr/local/lib/python3.10/dist-packages (from tensorflow) (2.14.0)\n",
            "Requirement already satisfied: wheel<1.0,>=0.23.0 in /usr/local/lib/python3.10/dist-packages (from astunparse>=1.6.0->tensorflow) (0.41.3)\n",
            "Requirement already satisfied: google-auth<3,>=1.6.3 in /usr/local/lib/python3.10/dist-packages (from tensorboard<2.15,>=2.14->tensorflow) (2.17.3)\n",
            "Requirement already satisfied: google-auth-oauthlib<1.1,>=0.5 in /usr/local/lib/python3.10/dist-packages (from tensorboard<2.15,>=2.14->tensorflow) (1.0.0)\n",
            "Requirement already satisfied: markdown>=2.6.8 in /usr/local/lib/python3.10/dist-packages (from tensorboard<2.15,>=2.14->tensorflow) (3.5.1)\n",
            "Requirement already satisfied: requests<3,>=2.21.0 in /usr/local/lib/python3.10/dist-packages (from tensorboard<2.15,>=2.14->tensorflow) (2.31.0)\n",
            "Requirement already satisfied: tensorboard-data-server<0.8.0,>=0.7.0 in /usr/local/lib/python3.10/dist-packages (from tensorboard<2.15,>=2.14->tensorflow) (0.7.2)\n",
            "Requirement already satisfied: werkzeug>=1.0.1 in /usr/local/lib/python3.10/dist-packages (from tensorboard<2.15,>=2.14->tensorflow) (3.0.1)\n",
            "Requirement already satisfied: cachetools<6.0,>=2.0.0 in /usr/local/lib/python3.10/dist-packages (from google-auth<3,>=1.6.3->tensorboard<2.15,>=2.14->tensorflow) (5.3.2)\n",
            "Requirement already satisfied: pyasn1-modules>=0.2.1 in /usr/local/lib/python3.10/dist-packages (from google-auth<3,>=1.6.3->tensorboard<2.15,>=2.14->tensorflow) (0.3.0)\n",
            "Requirement already satisfied: rsa<5,>=3.1.4 in /usr/local/lib/python3.10/dist-packages (from google-auth<3,>=1.6.3->tensorboard<2.15,>=2.14->tensorflow) (4.9)\n",
            "Requirement already satisfied: requests-oauthlib>=0.7.0 in /usr/local/lib/python3.10/dist-packages (from google-auth-oauthlib<1.1,>=0.5->tensorboard<2.15,>=2.14->tensorflow) (1.3.1)\n",
            "Requirement already satisfied: charset-normalizer<4,>=2 in /usr/local/lib/python3.10/dist-packages (from requests<3,>=2.21.0->tensorboard<2.15,>=2.14->tensorflow) (3.3.2)\n",
            "Requirement already satisfied: idna<4,>=2.5 in /usr/local/lib/python3.10/dist-packages (from requests<3,>=2.21.0->tensorboard<2.15,>=2.14->tensorflow) (3.4)\n",
            "Requirement already satisfied: urllib3<3,>=1.21.1 in /usr/local/lib/python3.10/dist-packages (from requests<3,>=2.21.0->tensorboard<2.15,>=2.14->tensorflow) (2.0.7)\n",
            "Requirement already satisfied: certifi>=2017.4.17 in /usr/local/lib/python3.10/dist-packages (from requests<3,>=2.21.0->tensorboard<2.15,>=2.14->tensorflow) (2023.7.22)\n",
            "Requirement already satisfied: MarkupSafe>=2.1.1 in /usr/local/lib/python3.10/dist-packages (from werkzeug>=1.0.1->tensorboard<2.15,>=2.14->tensorflow) (2.1.3)\n",
            "Requirement already satisfied: pyasn1<0.6.0,>=0.4.6 in /usr/local/lib/python3.10/dist-packages (from pyasn1-modules>=0.2.1->google-auth<3,>=1.6.3->tensorboard<2.15,>=2.14->tensorflow) (0.5.0)\n",
            "Requirement already satisfied: oauthlib>=3.0.0 in /usr/local/lib/python3.10/dist-packages (from requests-oauthlib>=0.7.0->google-auth-oauthlib<1.1,>=0.5->tensorboard<2.15,>=2.14->tensorflow) (3.2.2)\n"
          ]
        }
      ]
    },
    {
      "cell_type": "code",
      "source": [
        "from tensorflow.keras.preprocessing.text import Tokenizer\n",
        "from tensorflow.keras.preprocessing.sequence import pad_sequences\n",
        "import numpy as np\n",
        "\n",
        "token_vocab = set([token for sentence, _ in preprocessed_train_data for token in sentence])\n",
        "slot_label_vocab = set([slot for _, slots in preprocessed_train_data for slot in slots])\n",
        "\n",
        "token_tokenizer = Tokenizer(filters='')\n",
        "slot_label_tokenizer = Tokenizer(filters='')\n",
        "token_tokenizer.fit_on_texts(token_vocab)\n",
        "slot_label_tokenizer.fit_on_texts(slot_label_vocab)\n",
        "\n",
        "\n",
        "train_sentences = token_tokenizer.texts_to_sequences([sentence for sentence, _ in preprocessed_train_data])\n",
        "train_slot_labels = slot_label_tokenizer.texts_to_sequences([slots for _, slots in preprocessed_train_data])\n",
        "\n",
        "MAX_LEN = max([len(sentence) for sentence in train_sentences])\n",
        "train_sentences = pad_sequences(train_sentences, maxlen=MAX_LEN, padding='post')\n",
        "train_slot_labels = pad_sequences(train_slot_labels, maxlen=MAX_LEN, padding='post')\n",
        "num_slot_labels = len(slot_label_tokenizer.word_index) + 1\n",
        "\n",
        "train_slot_labels = np.array([np.eye(num_slot_labels)[np.clip(slots, 0, num_slot_labels-1)] for slots in train_slot_labels])\n",
        "\n",
        "\n"
      ],
      "metadata": {
        "id": "YrpM45yNX23-"
      },
      "execution_count": 12,
      "outputs": []
    },
    {
      "cell_type": "code",
      "source": [
        "from tensorflow.keras.models import Model\n",
        "from tensorflow.keras.layers import Input, Embedding, Bidirectional, LSTM, TimeDistributed, Dense\n",
        "\n",
        "\n",
        "EMBEDDING_DIM = 50\n",
        "LSTM_UNITS = 64\n",
        "\n",
        "input_layer = Input(shape=(MAX_LEN,))\n",
        "model = Embedding(input_dim=len(token_tokenizer.word_index) + 1, output_dim=EMBEDDING_DIM, input_length=MAX_LEN)(input_layer)\n",
        "model = Bidirectional(LSTM(units=LSTM_UNITS, return_sequences=True))(model)\n",
        "model = TimeDistributed(Dense(len(slot_label_tokenizer.word_index) + 1, activation='softmax'))(model)\n",
        "ner_model = Model(input_layer, model)\n",
        "ner_model.compile(optimizer='adam', loss='categorical_crossentropy', metrics=['accuracy'])\n",
        "\n",
        "ner_model.summary()\n"
      ],
      "metadata": {
        "colab": {
          "base_uri": "https://localhost:8080/"
        },
        "id": "gtcVxRAaX21q",
        "outputId": "9211e620-92fb-4caf-c8f8-f2411cac428e"
      },
      "execution_count": 13,
      "outputs": [
        {
          "output_type": "stream",
          "name": "stdout",
          "text": [
            "Model: \"model\"\n",
            "_________________________________________________________________\n",
            " Layer (type)                Output Shape              Param #   \n",
            "=================================================================\n",
            " input_1 (InputLayer)        [(None, 46)]              0         \n",
            "                                                                 \n",
            " embedding (Embedding)       (None, 46, 50)            44500     \n",
            "                                                                 \n",
            " bidirectional (Bidirection  (None, 46, 128)           58880     \n",
            " al)                                                             \n",
            "                                                                 \n",
            " time_distributed (TimeDist  (None, 46, 124)           15996     \n",
            " ributed)                                                        \n",
            "                                                                 \n",
            "=================================================================\n",
            "Total params: 119376 (466.31 KB)\n",
            "Trainable params: 119376 (466.31 KB)\n",
            "Non-trainable params: 0 (0.00 Byte)\n",
            "_________________________________________________________________\n"
          ]
        }
      ]
    },
    {
      "cell_type": "code",
      "source": [
        "ner_model.fit(train_sentences, train_slot_labels, batch_size=32, epochs=5, validation_split=0.1)"
      ],
      "metadata": {
        "colab": {
          "base_uri": "https://localhost:8080/"
        },
        "id": "ZNWIUBR4X2yq",
        "outputId": "098370a8-d4a7-447f-81c8-48d24b469d4f"
      },
      "execution_count": 14,
      "outputs": [
        {
          "output_type": "stream",
          "name": "stdout",
          "text": [
            "Epoch 1/5\n",
            "140/140 [==============================] - 17s 92ms/step - loss: 1.1574 - accuracy: 0.8353 - val_loss: 0.5066 - val_accuracy: 0.8999\n",
            "Epoch 2/5\n",
            "140/140 [==============================] - 8s 60ms/step - loss: 0.4522 - accuracy: 0.9055 - val_loss: 0.3948 - val_accuracy: 0.9119\n",
            "Epoch 3/5\n",
            "140/140 [==============================] - 14s 100ms/step - loss: 0.3228 - accuracy: 0.9351 - val_loss: 0.2630 - val_accuracy: 0.9459\n",
            "Epoch 4/5\n",
            "140/140 [==============================] - 14s 99ms/step - loss: 0.2249 - accuracy: 0.9514 - val_loss: 0.1984 - val_accuracy: 0.9555\n",
            "Epoch 5/5\n",
            "140/140 [==============================] - 12s 83ms/step - loss: 0.1760 - accuracy: 0.9596 - val_loss: 0.1623 - val_accuracy: 0.9623\n"
          ]
        },
        {
          "output_type": "execute_result",
          "data": {
            "text/plain": [
              "<keras.src.callbacks.History at 0x7a28975b10c0>"
            ]
          },
          "metadata": {},
          "execution_count": 14
        }
      ]
    },
    {
      "cell_type": "code",
      "source": [
        "# Preprocess the test data\n",
        "preprocessed_test_data = manual_preprocess_data(atis_test)\n",
        "\n",
        "# Convert test sentences and slot labels to sequences of IDs\n",
        "test_sentences = token_tokenizer.texts_to_sequences([sentence for sentence, _ in preprocessed_test_data])\n",
        "test_slot_labels = slot_label_tokenizer.texts_to_sequences([slots for _, slots in preprocessed_test_data])\n",
        "\n",
        "# Pad the sequences\n",
        "test_sentences = pad_sequences(test_sentences, maxlen=MAX_LEN, padding='post')\n",
        "test_slot_labels = pad_sequences(test_slot_labels, maxlen=MAX_LEN, padding='post')\n",
        "\n",
        "# Convert slot labels to categorical format\n",
        "test_slot_labels = np.array([np.eye(len(slot_label_tokenizer.word_index) + 1)[slots] for slots in test_slot_labels])\n"
      ],
      "metadata": {
        "id": "Kl2703PkX2vx"
      },
      "execution_count": 15,
      "outputs": []
    },
    {
      "cell_type": "code",
      "source": [
        "test_loss, test_accuracy = ner_model.evaluate(test_sentences, test_slot_labels)\n",
        "print(f\"Test Accuracy: {test_accuracy}\")\n"
      ],
      "metadata": {
        "colab": {
          "base_uri": "https://localhost:8080/"
        },
        "id": "sf4tvK7TX1sc",
        "outputId": "1dcad6d1-a909-4857-b573-f37a10d9ee4e"
      },
      "execution_count": 16,
      "outputs": [
        {
          "output_type": "stream",
          "name": "stdout",
          "text": [
            "28/28 [==============================] - 1s 23ms/step - loss: 0.1852 - accuracy: 0.9606\n",
            "Test Accuracy: 0.9606115221977234\n"
          ]
        }
      ]
    },
    {
      "cell_type": "code",
      "source": [
        "# Make predictions on the test data\n",
        "test_predictions = ner_model.predict(test_sentences)\n"
      ],
      "metadata": {
        "colab": {
          "base_uri": "https://localhost:8080/"
        },
        "id": "hmTzvYjKCv-E",
        "outputId": "1ad615f5-91ea-4b2d-f0f9-5a67469d7642"
      },
      "execution_count": 17,
      "outputs": [
        {
          "output_type": "stream",
          "name": "stdout",
          "text": [
            "28/28 [==============================] - 3s 24ms/step\n"
          ]
        }
      ]
    },
    {
      "cell_type": "code",
      "source": [
        "from sklearn.preprocessing import LabelEncoder\n",
        "from sklearn.metrics import classification_report\n",
        "\n",
        "# Flatten the predictions and true labels\n",
        "flat_test_predictions = [pred for sentence in np.argmax(test_predictions, axis=-1) for pred in sentence]\n",
        "flat_true_test_slot_labels = [true_label for sentence in np.argmax(test_slot_labels, axis=-1) for true_label in sentence]\n",
        "\n",
        "# Initialize LabelEncoder\n",
        "label_encoder = LabelEncoder()\n",
        "label_encoder.fit(list(slot_label_tokenizer.word_index.keys()))\n",
        "\n",
        "# Get target names\n",
        "target_names = label_encoder.inverse_transform(range(len(slot_label_tokenizer.word_index)))\n",
        "\n",
        "# Generate classification report\n",
        "report = classification_report(flat_true_test_slot_labels, flat_test_predictions, target_names=target_names, labels=range(len(slot_label_tokenizer.word_index)), zero_division=0)\n",
        "\n",
        "print(report)\n"
      ],
      "metadata": {
        "colab": {
          "base_uri": "https://localhost:8080/"
        },
        "id": "bvsEG2B9c5W-",
        "outputId": "a0bd0755-0a98-4e32-cfc1-6bee24c1d8af"
      },
      "execution_count": 18,
      "outputs": [
        {
          "output_type": "stream",
          "name": "stdout",
          "text": [
            "                              precision    recall  f1-score   support\n",
            "\n",
            "             b-aircraft_code       0.99      1.00      1.00     31886\n",
            "              b-airline_code       0.00      0.00      0.00         1\n",
            "              b-airline_name       0.00      0.00      0.00        31\n",
            "              b-airport_code       0.00      0.00      0.00         6\n",
            "              b-airport_name       0.00      0.00      0.00        17\n",
            " b-arrive_date.date_relative       0.00      0.00      0.00        10\n",
            "      b-arrive_date.day_name       0.00      0.00      0.00         0\n",
            "    b-arrive_date.day_number       0.00      0.00      0.00         9\n",
            "    b-arrive_date.month_name       0.00      0.00      0.00        31\n",
            "b-arrive_date.today_relative       0.00      0.00      0.00         3\n",
            "      b-arrive_time.end_time       0.00      0.00      0.00         0\n",
            "    b-arrive_time.period_mod       0.00      0.00      0.00         4\n",
            " b-arrive_time.period_of_day       0.00      0.00      0.00         0\n",
            "    b-arrive_time.start_time       0.00      0.00      0.00         1\n",
            "          b-arrive_time.time       0.00      0.00      0.00        34\n",
            " b-arrive_time.time_relative       0.00      0.00      0.00        11\n",
            "                 b-city_name       0.00      0.00      0.00         6\n",
            "                b-class_type       0.00      0.00      0.00         4\n",
            "                   b-connect       0.00      0.00      0.00         1\n",
            "             b-cost_relative       0.00      0.00      0.00        73\n",
            "                  b-day_name       0.33      0.61      0.43       212\n",
            "                b-day_number       0.00      0.00      0.00         1\n",
            "                 b-days_code       0.92      0.97      0.94       704\n",
            " b-depart_date.date_relative       0.00      0.00      0.00        29\n",
            "      b-depart_date.day_name       0.00      0.00      0.00        16\n",
            "    b-depart_date.day_number       0.00      0.00      0.00         0\n",
            "    b-depart_date.month_name       0.00      0.00      0.00         0\n",
            "b-depart_date.today_relative       0.00      0.00      0.00         2\n",
            "          b-depart_date.year       0.00      0.00      0.00        55\n",
            "      b-depart_time.end_time       0.00      0.00      0.00        35\n",
            "    b-depart_time.period_mod       0.00      0.00      0.00         2\n",
            " b-depart_time.period_of_day       0.93      0.96      0.94       716\n",
            "    b-depart_time.start_time       0.00      0.00      0.00        33\n",
            "          b-depart_time.time       0.00      0.00      0.00        34\n",
            " b-depart_time.time_relative       0.00      0.00      0.00         1\n",
            "                   b-economy       0.19      0.43      0.27       101\n",
            "               b-fare_amount       0.00      0.00      0.00        15\n",
            "           b-fare_basis_code       0.00      0.00      0.00         4\n",
            "               b-flight_days       0.32      0.83      0.46        52\n",
            "                b-flight_mod       0.00      0.00      0.00         2\n",
            "             b-flight_number       0.00      0.00      0.00        28\n",
            "               b-flight_stop       0.00      0.00      0.00         3\n",
            "               b-flight_time       0.49      0.58      0.53        57\n",
            "      b-fromloc.airport_code       0.00      0.00      0.00         0\n",
            "      b-fromloc.airport_name       0.00      0.00      0.00        10\n",
            "         b-fromloc.city_name       0.00      0.00      0.00         6\n",
            "        b-fromloc.state_code       0.00      0.00      0.00         0\n",
            "        b-fromloc.state_name       0.00      0.00      0.00         0\n",
            "                      b-meal       0.00      0.00      0.00         0\n",
            "                 b-meal_code       0.00      0.00      0.00         0\n",
            "          b-meal_description       0.00      0.00      0.00         3\n",
            "                       b-mod       0.00      0.00      0.00         0\n",
            "                b-month_name       0.00      0.00      0.00        23\n",
            "                        b-or       0.00      0.00      0.00         9\n",
            "             b-period_of_day       0.00      0.00      0.00         0\n",
            "          b-restriction_code       0.00      0.00      0.00        65\n",
            " b-return_date.date_relative       0.00      0.00      0.00         3\n",
            "      b-return_date.day_name       0.00      0.00      0.00         1\n",
            "    b-return_date.day_number       0.00      0.00      0.00         6\n",
            "    b-return_date.month_name       0.00      0.00      0.00         0\n",
            "b-return_date.today_relative       0.00      0.00      0.00         0\n",
            "    b-return_time.period_mod       0.00      0.00      0.00        56\n",
            " b-return_time.period_of_day       0.00      0.00      0.00         1\n",
            "                b-round_trip       0.00      0.00      0.00         3\n",
            "                b-state_code       0.00      0.00      0.00        71\n",
            "                b-state_name       0.00      0.00      0.00        17\n",
            "      b-stoploc.airport_name       0.72      0.23      0.35        57\n",
            "         b-stoploc.city_name       0.00      0.00      0.00         0\n",
            "        b-stoploc.state_code       0.00      0.00      0.00         2\n",
            "                      b-time       0.00      0.00      0.00        10\n",
            "             b-time_relative       0.00      0.00      0.00        10\n",
            "            b-today_relative       0.00      0.00      0.00         0\n",
            "        b-toloc.airport_code       0.00      0.00      0.00         3\n",
            "        b-toloc.airport_name       0.00      0.00      0.00         0\n",
            "           b-toloc.city_name       0.00      0.00      0.00         3\n",
            "        b-toloc.country_name       0.00      0.00      0.00         1\n",
            "          b-toloc.state_code       0.00      0.00      0.00         9\n",
            "          b-toloc.state_name       0.00      0.00      0.00         0\n",
            "            b-transport_type       0.85      0.60      0.70        65\n",
            "              i-airline_name       0.00      0.00      0.00         0\n",
            "              i-airport_name       0.00      0.00      0.00         0\n",
            "    i-arrive_date.day_number       0.00      0.00      0.00        37\n",
            "      i-arrive_time.end_time       0.00      0.00      0.00        15\n",
            " i-arrive_time.period_of_day       0.00      0.00      0.00         8\n",
            "    i-arrive_time.start_time       0.67      0.96      0.79       265\n",
            "          i-arrive_time.time       0.00      0.00      0.00         6\n",
            " i-arrive_time.time_relative       0.00      0.00      0.00         1\n",
            "                 i-city_name       0.00      0.00      0.00         8\n",
            "                i-class_type       0.00      0.00      0.00         6\n",
            "             i-cost_relative       0.00      0.00      0.00         0\n",
            "      i-depart_date.day_name       0.00      0.00      0.00         8\n",
            "    i-depart_date.day_number       0.71      0.95      0.81       178\n",
            "i-depart_date.today_relative       0.00      0.00      0.00         3\n",
            "      i-depart_time.end_time       0.15      0.08      0.10       130\n",
            " i-depart_time.period_of_day       0.00      0.00      0.00         5\n",
            "    i-depart_time.start_time       0.00      0.00      0.00         3\n",
            "          i-depart_time.time       0.67      0.40      0.50        20\n",
            " i-depart_time.time_relative       0.92      0.99      0.95      5533\n",
            "                   i-economy       0.00      0.00      0.00         5\n",
            "               i-fare_amount       0.00      0.00      0.00         0\n",
            "           i-fare_basis_code       0.00      0.00      0.00         0\n",
            "                i-flight_mod       0.00      0.00      0.00         2\n",
            "               i-flight_stop       0.00      0.00      0.00        21\n",
            "               i-flight_time       0.00      0.00      0.00        17\n",
            "      i-fromloc.airport_name       0.00      0.00      0.00         3\n",
            "         i-fromloc.city_name       0.00      0.00      0.00         0\n",
            "        i-fromloc.state_name       0.00      0.00      0.00         1\n",
            "                 i-meal_code       0.00      0.00      0.00        12\n",
            "          i-meal_description       0.00      0.00      0.00         4\n",
            "                       i-mod       0.00      0.00      0.00         0\n",
            "          i-restriction_code       0.00      0.00      0.00        21\n",
            " i-return_date.date_relative       0.00      0.00      0.00         0\n",
            "    i-return_date.day_number       0.00      0.00      0.00         2\n",
            "i-return_date.today_relative       0.00      0.00      0.00         3\n",
            "                i-round_trip       0.00      0.00      0.00        24\n",
            "         i-stoploc.city_name       0.00      0.00      0.00        11\n",
            "                      i-time       0.00      0.00      0.00         1\n",
            "            i-today_relative       0.00      0.00      0.00         1\n",
            "        i-toloc.airport_name       0.00      0.00      0.00        18\n",
            "           i-toloc.city_name       0.00      0.00      0.00        24\n",
            "          i-toloc.state_name       0.00      0.00      0.00        17\n",
            "            i-transport_type       0.00      0.00      0.00         0\n",
            "                           o       0.00      0.00      0.00         1\n",
            "\n",
            "                   micro avg       0.96      0.96      0.96     41078\n",
            "                   macro avg       0.07      0.08      0.07     41078\n",
            "                weighted avg       0.94      0.96      0.95     41078\n",
            "\n"
          ]
        }
      ]
    },
    {
      "cell_type": "code",
      "source": [
        "ner_model.save('/content/drive/MyDrive/Thesis/ML Engineer Files/ner_model_atis.h5')\n"
      ],
      "metadata": {
        "id": "31MDboR5daXu"
      },
      "execution_count": 20,
      "outputs": []
    },
    {
      "cell_type": "code",
      "source": [
        "from tensorflow.keras.models import load_model\n",
        "\n",
        "loaded_model = load_model('/content/drive/MyDrive/Thesis/ML Engineer Files/ner_model_atis.h5')\n"
      ],
      "metadata": {
        "id": "SOBd-Acd8Nh9"
      },
      "execution_count": 21,
      "outputs": []
    },
    {
      "cell_type": "code",
      "source": [
        "def extract_return_date_time(model, input_text, token_tokenizer, slot_label_tokenizer, max_len):\n",
        "    # Tokenize and pad the input text\n",
        "    sequence = token_tokenizer.texts_to_sequences([input_text.split()])\n",
        "    padded_sequence = pad_sequences(sequence, maxlen=max_len, padding='post')\n",
        "\n",
        "    # Predict using the model\n",
        "    prediction = model.predict(padded_sequence)\n",
        "    prediction_labels = np.argmax(prediction, axis=-1)[0]\n",
        "\n",
        "    tokens = input_text.split()\n",
        "    predicted_slots = [slot_label_tokenizer.index_word.get(label, 'O') for label in prediction_labels[:len(tokens)]]\n",
        "\n",
        "\n",
        "    # Extracting return date and time entities\n",
        "    return_entities = []\n",
        "    for token, slot_label in zip(tokens, predicted_slots):\n",
        "        if 'return_date' in slot_label or 'return_time' in slot_label:\n",
        "            return_entities.append(token)\n",
        "\n",
        "    return ' '.join(return_entities) if return_entities else \"No return date/time detected.\"\n",
        "\n",
        "# Example usage\n",
        "input_text = \"I want to book a flight to Dhaka tomorrow and return  Friday at 11 AM.\"\n",
        "return_info = extract_return_date_time(loaded_model, input_text, token_tokenizer, slot_label_tokenizer, MAX_LEN)\n",
        "print(return_info)\n"
      ],
      "metadata": {
        "colab": {
          "base_uri": "https://localhost:8080/"
        },
        "id": "fOn4HzgK8XP_",
        "outputId": "4fb7b04d-9688-4667-83f7-5fa5588e1ece"
      },
      "execution_count": 26,
      "outputs": [
        {
          "output_type": "stream",
          "name": "stdout",
          "text": [
            "1/1 [==============================] - 0s 39ms/step\n",
            "No return date/time detected.\n"
          ]
        }
      ]
    }
  ]
}